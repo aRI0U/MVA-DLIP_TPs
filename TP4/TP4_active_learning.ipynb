{
  "nbformat": 4,
  "nbformat_minor": 0,
  "metadata": {
    "kernelspec": {
      "name": "python3",
      "display_name": "Python 3"
    },
    "language_info": {
      "codemirror_mode": {
        "name": "ipython",
        "version": 3
      },
      "file_extension": ".py",
      "mimetype": "text/x-python",
      "name": "python",
      "nbconvert_exporter": "python",
      "pygments_lexer": "ipython3",
      "version": "3.6.9"
    },
    "colab": {
      "name": "TP4_active_learning.ipynb",
      "provenance": [],
      "collapsed_sections": []
    },
    "accelerator": "GPU"
  },
  "cells": [
    {
      "cell_type": "markdown",
      "metadata": {
        "id": "DTmCwgBwSIRw",
        "colab_type": "text"
      },
      "source": [
        "# Active Learning Practical"
      ]
    },
    {
      "cell_type": "markdown",
      "metadata": {
        "id": "Sq9T5hS0SISD",
        "colab_type": "text"
      },
      "source": [
        "Active Learning is generally useful in a specific case of small data: when unlabelled data is plentiful, but labelling it is costly. Think for example that each example must be analysed by an expert for labelling it. Expert time is costly, so we would like to be able to train a successful classifier while labelling as few examples as possible.\n",
        "\n",
        "Active Learning is an approach to answer this problem. The general principle is the following: we first randomly ask the expert to label a small random subset of the training data, and train our classifier on it. Once this first step is done, we can analyse the behaviour of our trained model on the yet unlabelled data, to deduce which additional examples would be worth labelling to improve the quality of the model as quickly as possible. We then retrain the model on the new larger labelled dataset and iterate this process, labelling more and more examples, until we reach a satisfying performance. And hopefully reaching it while only labelling a small fraction of the whole available dataset.\n",
        "\n",
        "The main question in Active Learning is thus the following: How should we choose the next batch of examples to be labelled?\n",
        "\n",
        "There are different strategies for this, that you will compare in this practical."
      ]
    },
    {
      "cell_type": "markdown",
      "metadata": {
        "id": "WZ5TWCBlSISO",
        "colab_type": "text"
      },
      "source": [
        "### Example setup\n",
        "\n",
        "We will emulate an active learning situation using the MNIST dataset, starting by pretending we don't have the labels. The \"ask an expert to label the example\" step will thus be simply picking the label from the dataset.\n",
        "\n",
        "You'll have to provide a neural network architecture and the implementation of various active learning strategies, with the goal of comparing them. Keep in mind that the start of the training will be on very small datasets when designing your architectures."
      ]
    },
    {
      "cell_type": "code",
      "metadata": {
        "id": "r993EwclSISY",
        "colab_type": "code",
        "colab": {}
      },
      "source": [
        "import torch\n",
        "import torch.nn as nn\n",
        "import torch.nn.functional as F\n",
        "import torchvision\n",
        "import torchvision.transforms as transforms\n",
        "from torch.utils.data import DataLoader, random_split, TensorDataset\n",
        "\n",
        "import matplotlib.pyplot as plt\n",
        "%matplotlib inline\n",
        "\n",
        "import time\n",
        "\n",
        "# reproducibility\n",
        "torch.backends.cudnn.deterministic = True\n",
        "torch.backends.cudnn.benchmark = False"
      ],
      "execution_count": 0,
      "outputs": []
    },
    {
      "cell_type": "code",
      "metadata": {
        "id": "KyH4tvRcSIS7",
        "colab_type": "code",
        "colab": {}
      },
      "source": [
        "# Loading MNIST dataset from torchvision.dataset\n",
        "original_mnist = torchvision.datasets.MNIST(root='data/',\n",
        "                                           train=True,\n",
        "                                           transform=transforms.ToTensor(),\n",
        "                                           download=True)"
      ],
      "execution_count": 0,
      "outputs": []
    },
    {
      "cell_type": "code",
      "metadata": {
        "id": "8uakg9v7SITS",
        "colab_type": "code",
        "colab": {}
      },
      "source": [
        "# This function creates an unlabelled dataset based on the MNIST images\n",
        "#\n",
        "# All examples that are not yet labelled have a label set to -1\n",
        "def unlabeled_dataset():\n",
        "    return TensorDataset(\n",
        "        original_mnist.data[5000:].float() * 2.0 / 255.0 -1.0,\n",
        "        torch.zeros_like(original_mnist.targets[5000:])-1\n",
        "    )\n",
        "\n",
        "# This function labels the requested examples on an unlabelled dataset\n",
        "def call_expert(dataset, indices):\n",
        "    for i in indices:\n",
        "        dataset.tensors[1][i] = original_mnist.targets[5000+i]\n",
        "\n",
        "# Keep 5000 examples as a validation\n",
        "mnist_validation = TensorDataset(\n",
        "    original_mnist.data[:5000].float() * 2.0 / 255.0 -1.0,\n",
        "    original_mnist.targets[:5000]\n",
        ")"
      ],
      "execution_count": 0,
      "outputs": []
    },
    {
      "cell_type": "markdown",
      "metadata": {
        "id": "VZ14EEk5SITn",
        "colab_type": "text"
      },
      "source": [
        "You can here define your model that will be used for the Active learning process:"
      ]
    },
    {
      "cell_type": "code",
      "metadata": {
        "id": "q3O20IleSITt",
        "colab_type": "code",
        "colab": {}
      },
      "source": [
        "class Model(nn.Module):\n",
        "    r\"\"\"\n",
        "        The architecture of the model is strongly inspired from `CAPTCHA Recognition with Active Deep Learning` (Stark et. al., 2015)\n",
        "    \"\"\"\n",
        "    def __init__(self):\n",
        "        super().__init__()\n",
        "\n",
        "        # Convolutional layers\n",
        "        self.conv1 = nn.Conv2d(1, 48, 3, padding=2, stride=2)\n",
        "        self.conv2 = nn.Conv2d(48, 64, 3, padding=2)\n",
        "        self.conv3 = nn.Conv2d(64, 128, 3, padding=2)\n",
        "\n",
        "        # Pooling layers\n",
        "        self.pool1 = nn.MaxPool2d(2, stride=2)\n",
        "        self.pool2 = nn.MaxPool2d(2)\n",
        "        self.pool3 = nn.MaxPool2d(2, stride=2)\n",
        "\n",
        "        # Linear layers\n",
        "        self.fc1 = nn.Linear(128*3*3, 128)\n",
        "        self.fc2 = nn.Linear(128, 10)\n",
        "\n",
        "        self.relu = nn.ReLU()\n",
        "        self.dropout = nn.Dropout()\n",
        "\n",
        "    def forward(self, x):\n",
        "        B, H, W = x.shape\n",
        "        x = x.view(B, 1, H, W)\n",
        "        h = self.conv1(x)\n",
        "        h = self.pool1(h)\n",
        "        h = self.relu(h)\n",
        "        h = self.dropout(h)\n",
        "\n",
        "        h = self.conv2(h)\n",
        "        h = self.pool2(h)\n",
        "        h = self.relu(h)\n",
        "        h = self.dropout(h)\n",
        "\n",
        "        h = self.conv3(h)\n",
        "        h = self.pool3(h)\n",
        "        h = self.relu(h)\n",
        "        h = self.dropout(h)\n",
        "\n",
        "        h = h.view(B, -1)\n",
        "        h = self.fc1(h)\n",
        "        h = self.relu(h)\n",
        "        h = self.dropout(h)\n",
        "        output = self.fc2(h) \n",
        "        return output"
      ],
      "execution_count": 0,
      "outputs": []
    },
    {
      "cell_type": "markdown",
      "metadata": {
        "id": "psaAyP12SIUC",
        "colab_type": "text"
      },
      "source": [
        "And here are the learning hyper-parameters, as for the previous practicals you may need to tinker with them:"
      ]
    },
    {
      "cell_type": "code",
      "metadata": {
        "id": "2d4xtcEDSIUI",
        "colab_type": "code",
        "colab": {}
      },
      "source": [
        "hyperparams = {\n",
        "    # number of times the expert will be called to label a batch of examples\n",
        "    'num_active_runs': 10,\n",
        "\n",
        "    # number of training iterations between each expert call\n",
        "    # the number of epochs is thus num_iter * batch_size / len(dataset)\n",
        "    'num_iter': 1000,\n",
        "    'batch_size': 128,\n",
        "\n",
        "    'criterion': nn.CrossEntropyLoss(),\n",
        "\n",
        "    # Optimizer params\n",
        "    'learning_rate': 1e-3,\n",
        "    'lr_decay': 1,\n",
        "\n",
        "    # number of examples to label randomly at the start, and how many to add at each step\n",
        "    'initial_labelling': 50,\n",
        "    'labelling_per_run': 50\n",
        "}"
      ],
      "execution_count": 0,
      "outputs": []
    },
    {
      "cell_type": "markdown",
      "metadata": {
        "id": "kV_c_N8OSIUZ",
        "colab_type": "text"
      },
      "source": [
        "Now is the place where you define the strategy to choose the next examples to label. A strategy is a function taking as input your model and the dataset, and returning a list of examples to label.\n",
        "\n",
        "You can create several functions to test different strategies."
      ]
    },
    {
      "cell_type": "code",
      "metadata": {
        "id": "Y7domnIbSIUe",
        "colab_type": "code",
        "colab": {}
      },
      "source": [
        "def random_strategy(model, dataset, n=100):\n",
        "    # label 100 new examples at random\n",
        "    N = len(dataset)\n",
        "    return torch.randint(0, N, (n,))\n",
        "\n",
        "def bvsb_strategy(model, dataset, n=100): # best strategy\n",
        "    r\"\"\"\n",
        "        Best-versus-Second-Best strategy described in `Multi-class active learning for image classification` (Joshi et. al., 2009)\n",
        "        Uncertainty is defined as score(second best) / score(best), then the most\n",
        "        uncertain examples are added to the dataset\n",
        "    \"\"\"\n",
        "    model.eval()\n",
        "    loader = DataLoader(dataset, batch_size=len(dataset), shuffle=False)\n",
        "    \n",
        "    with torch.no_grad():\n",
        "        # compute the scores of each element in the dataset\n",
        "        data, _ = next(iter(loader))\n",
        "        if torch.cuda.is_available():\n",
        "            data = data.cuda()\n",
        "        scores = model(data)\n",
        "        \n",
        "        # compute uncertainty as score_second_best / score_best\n",
        "        best_scores = torch.topk(scores, 2, dim=1).values\n",
        "        uncertainty = best_scores[:,1] / best_scores[:,0]\n",
        "\n",
        "    return torch.topk(uncertainty, n).indices\n",
        "\n",
        "def uncertainty_strategy(model, dataset, n=100):\n",
        "    r\"\"\"\n",
        "        Pick the samples with lowest prediction confidence\n",
        "    \"\"\"\n",
        "    model.eval()\n",
        "    loader = DataLoader(dataset, batch_size=len(dataset), shuffle=False)\n",
        "    \n",
        "    with torch.no_grad():\n",
        "        # compute the scores of each element in the dataset\n",
        "        data, _ = next(iter(loader))\n",
        "        if torch.cuda.is_available():\n",
        "            data = data.cuda()\n",
        "        scores = model(data)\n",
        "        \n",
        "        confidence = torch.max(scores, dim=1).values\n",
        "\n",
        "    return torch.topk(-confidence, n).indices\n",
        "\n",
        "def margin_strategy(model, dataset, n=100):\n",
        "    r\"\"\"\n",
        "        Pick the samples by the difference between the highest classes probabilities.\n",
        "        Very similar to BvSB strategy.\n",
        "    \"\"\"\n",
        "    model.eval()\n",
        "    loader = DataLoader(dataset, batch_size=len(dataset), shuffle=False)\n",
        "    \n",
        "    with torch.no_grad():\n",
        "        # compute the scores of each element in the dataset\n",
        "        data, _ = next(iter(loader))\n",
        "        if torch.cuda.is_available():\n",
        "            data = data.cuda()\n",
        "        scores = model(data)\n",
        "        \n",
        "        # compute uncertainty as score_second_best / score_best\n",
        "        best_scores = torch.topk(scores, 2, dim=1).values\n",
        "        confidence = best_scores[:,0] - best_scores[:,1]\n",
        "\n",
        "    return torch.topk(confidence, n).indices\n",
        "\n",
        "def margin_strategy(model, dataset, n=100):\n",
        "    r\"\"\"\n",
        "        Pick the samples by the difference between the highest classes probabilities.\n",
        "        Very similar to BvSB strategy.\n",
        "    \"\"\"\n",
        "    model.eval()\n",
        "    loader = DataLoader(dataset, batch_size=len(dataset), shuffle=False)\n",
        "    \n",
        "    with torch.no_grad():\n",
        "        # compute the scores of each element in the dataset\n",
        "        data, _ = next(iter(loader))\n",
        "        if torch.cuda.is_available():\n",
        "            data = data.cuda()\n",
        "        scores = model(data)\n",
        "        \n",
        "        # compute uncertainty as score_second_best / score_best\n",
        "        best_scores = torch.topk(scores, 2, dim=1).values\n",
        "        confidence = best_scores[:,0] - best_scores[:,1]\n",
        "\n",
        "    return torch.topk(-confidence, n).indices\n",
        "\n",
        "def _entropy(p, dim=-1):\n",
        "    # Implementation found in https://github.com/pytorch/pytorch/issues/9993\n",
        "    return -torch.where(p > 0, p * p.log(), p.new([0.0])).sum(dim=dim)\n",
        "\n",
        "def entropy_strategy(model, dataset, n=100):\n",
        "    r\"\"\"\n",
        "        Pick samples with maximal entropy\n",
        "    \"\"\"\n",
        "    model.eval()\n",
        "    loader = DataLoader(dataset, batch_size=len(dataset), shuffle=False)\n",
        "    \n",
        "    with torch.no_grad():\n",
        "        # compute the scores of each element in the dataset\n",
        "        data, _ = next(iter(loader))\n",
        "        if torch.cuda.is_available():\n",
        "            data = data.cuda()\n",
        "        scores = model(data)\n",
        "        \n",
        "        # compute entropy\n",
        "        entropy = _entropy(scores)\n",
        "\n",
        "    return torch.topk(entropy, n).indices"
      ],
      "execution_count": 0,
      "outputs": []
    },
    {
      "cell_type": "markdown",
      "metadata": {
        "id": "fI0ncq80SIUz",
        "colab_type": "text"
      },
      "source": [
        "This function is the main training loop, the only part you should need to modify is the initialization of the optimizer (noted by the `# OPTIMIZER` comment).\n",
        "\n",
        "Don't forget to reload this cell whenever you change the hyper-parameters."
      ]
    },
    {
      "cell_type": "code",
      "metadata": {
        "id": "GP0H0kPpSIU3",
        "colab_type": "code",
        "colab": {}
      },
      "source": [
        "# returns a tensor of values:\n",
        "# - output[:,0] are the number of labeled examples\n",
        "# - output[:,1] are the associated accuracies\n",
        "# - output[:,2] are the associated losses\n",
        "def active_training(strategy, dataset=None, num_active_runs=10, num_iter=500,\n",
        "                    batch_size=64, criterion=nn.CrossEntropyLoss(), learning_rate=1e-3,\n",
        "                    lr_decay=1, initial_labelling=100, labelling_per_run=50):\n",
        "    is_cuda = torch.cuda.is_available()\n",
        "    if dataset is None:\n",
        "        dataset = unlabeled_dataset()\n",
        "        call_expert(dataset, torch.randint(0, len(dataset), (initial_labelling,)))\n",
        "    \n",
        "    def train_model(model, optimizer, loader, epochs):\n",
        "        model.train()\n",
        "        for _ in range(epochs):\n",
        "            for (data, targets) in loader:\n",
        "                if is_cuda:\n",
        "                    data = data.cuda()\n",
        "                    targets = targets.cuda()\n",
        "                model.zero_grad()\n",
        "                prediction = model(data)\n",
        "                loss = criterion(prediction, targets)\n",
        "                loss.backward()\n",
        "                optimizer.step()\n",
        "    \n",
        "    def validation_perf(model, dataset):\n",
        "        model.eval()\n",
        "        loader = DataLoader(dataset, batch_size=batch_size, shuffle=False)\n",
        "        total_accuracy = 0.0\n",
        "        total_loss = 0.0\n",
        "        with torch.no_grad():\n",
        "            for (data, targets) in loader:\n",
        "                if is_cuda:\n",
        "                    data = data.cuda()\n",
        "                    targets = targets.cuda()\n",
        "                prediction = model(data)\n",
        "                total_loss += criterion(prediction, targets).item() * data.size(0)\n",
        "                _, number_predicted = torch.max(prediction.data, 1)\n",
        "                total_accuracy += (number_predicted == targets).sum()\n",
        "        return (total_accuracy / len(dataset), total_loss / len(dataset))\n",
        "    \n",
        "    performances = torch.zeros(num_active_runs+1, 3)\n",
        "    \n",
        "    for i in range(num_active_runs+1):\n",
        "        # filter the dataset to only keep labelled examples\n",
        "        labelled_idx = dataset.tensors[1] >= 0\n",
        "        filtered_dataset = TensorDataset(*list(t[labelled_idx] for t in dataset.tensors))\n",
        "        loader = DataLoader(filtered_dataset, batch_size=batch_size, shuffle=True)\n",
        "        # create a new model to train on this dataset\n",
        "        model = Model()\n",
        "        if is_cuda:\n",
        "          model = model.cuda()\n",
        "        \n",
        "        # OPTIMIZER\n",
        "        optimizer = torch.optim.Adam(model.parameters(), lr=learning_rate)\n",
        "        learning_rate *= lr_decay\n",
        "\n",
        "        train_model(model, optimizer, loader, num_iter // len(loader))\n",
        "        (valid_acc, valid_loss) = validation_perf(model, mnist_validation)\n",
        "        \n",
        "        performances[i, 0] = len(filtered_dataset)\n",
        "        performances[i, 1] = valid_acc\n",
        "        performances[i, 2] = valid_loss\n",
        "        print(\"With {} examples, valid perf is: {:.3f} -- {:.2f}%\".format(len(filtered_dataset), valid_loss, valid_acc*100))\n",
        "        \n",
        "        if i < num_active_runs:\n",
        "            to_label = strategy(model, dataset, labelling_per_run)\n",
        "            call_expert(dataset, to_label)\n",
        "    \n",
        "    return performances"
      ],
      "execution_count": 0,
      "outputs": []
    },
    {
      "cell_type": "markdown",
      "metadata": {
        "id": "YrJzFzTPSIVE",
        "colab_type": "text"
      },
      "source": [
        "The following cells contain code that you can use to compare your different strategies. Fill the `strategies` list with the name of the functions implementing your strategies, and run the cell to compare them."
      ]
    },
    {
      "cell_type": "code",
      "metadata": {
        "id": "9Cdu_A_pSIVJ",
        "colab_type": "code",
        "outputId": "e8f1a7ca-6e2a-4fdc-b378-e833912c1836",
        "colab": {
          "base_uri": "https://localhost:8080/",
          "height": 1000
        }
      },
      "source": [
        "# a list of strategies you want to compare\n",
        "strategies = [\n",
        "    random_strategy,\n",
        "    bvsb_strategy,\n",
        "    uncertainty_strategy,\n",
        "    margin_strategy,\n",
        "    entropy_strategy\n",
        "]\n",
        "\n",
        "performances = []\n",
        "for strat in strategies:\n",
        "    # reproducibility\n",
        "    torch.manual_seed(0)\n",
        "\n",
        "    print(\"Training with strategy: {}\".format(strat.__name__))\n",
        "    perf = active_training(strat, **hyperparams)\n",
        "    performances.append((strat.__name__, perf))\n",
        "print(\"done\")"
      ],
      "execution_count": 8,
      "outputs": [
        {
          "output_type": "stream",
          "text": [
            "Training with strategy: random_strategy\n",
            "With 50 examples, valid perf is: 1.679 -- 76.38%\n",
            "With 100 examples, valid perf is: 0.661 -- 87.38%\n",
            "With 150 examples, valid perf is: 0.361 -- 90.96%\n",
            "With 200 examples, valid perf is: 0.268 -- 93.42%\n",
            "With 249 examples, valid perf is: 0.260 -- 93.64%\n",
            "With 299 examples, valid perf is: 0.256 -- 93.60%\n",
            "With 349 examples, valid perf is: 0.236 -- 94.38%\n",
            "With 398 examples, valid perf is: 0.221 -- 93.84%\n",
            "With 448 examples, valid perf is: 0.216 -- 94.78%\n",
            "With 498 examples, valid perf is: 0.198 -- 94.88%\n",
            "With 547 examples, valid perf is: 0.210 -- 94.26%\n",
            "Training with strategy: bvsb_strategy\n",
            "With 50 examples, valid perf is: 1.679 -- 76.38%\n",
            "With 100 examples, valid perf is: 0.822 -- 86.52%\n",
            "With 150 examples, valid perf is: 0.352 -- 90.96%\n",
            "With 200 examples, valid perf is: 0.222 -- 94.38%\n",
            "With 250 examples, valid perf is: 0.184 -- 95.38%\n",
            "With 300 examples, valid perf is: 0.163 -- 95.70%\n",
            "With 350 examples, valid perf is: 0.143 -- 96.02%\n",
            "With 400 examples, valid perf is: 0.142 -- 96.46%\n",
            "With 450 examples, valid perf is: 0.115 -- 96.94%\n",
            "With 500 examples, valid perf is: 0.108 -- 97.24%\n",
            "With 550 examples, valid perf is: 0.126 -- 96.86%\n",
            "Training with strategy: uncertainty_strategy\n",
            "With 50 examples, valid perf is: 1.679 -- 76.38%\n",
            "With 100 examples, valid perf is: 1.037 -- 78.48%\n",
            "With 150 examples, valid perf is: 0.732 -- 81.66%\n",
            "With 200 examples, valid perf is: 0.347 -- 91.20%\n",
            "With 250 examples, valid perf is: 0.304 -- 91.84%\n",
            "With 300 examples, valid perf is: 0.246 -- 92.90%\n",
            "With 350 examples, valid perf is: 0.225 -- 93.40%\n",
            "With 400 examples, valid perf is: 0.221 -- 93.60%\n",
            "With 450 examples, valid perf is: 0.147 -- 95.42%\n",
            "With 500 examples, valid perf is: 0.138 -- 95.66%\n",
            "With 549 examples, valid perf is: 0.131 -- 96.28%\n",
            "Training with strategy: margin_strategy\n",
            "With 50 examples, valid perf is: 1.679 -- 76.38%\n",
            "With 100 examples, valid perf is: 0.798 -- 86.40%\n",
            "With 150 examples, valid perf is: 0.337 -- 89.14%\n",
            "With 200 examples, valid perf is: 0.221 -- 93.98%\n",
            "With 250 examples, valid perf is: 0.142 -- 95.72%\n",
            "With 300 examples, valid perf is: 0.122 -- 96.52%\n",
            "With 350 examples, valid perf is: 0.119 -- 96.48%\n",
            "With 400 examples, valid perf is: 0.144 -- 96.18%\n",
            "With 450 examples, valid perf is: 0.107 -- 97.06%\n",
            "With 500 examples, valid perf is: 0.109 -- 96.98%\n",
            "With 550 examples, valid perf is: 0.133 -- 96.86%\n",
            "Training with strategy: entropy_strategy\n",
            "With 50 examples, valid perf is: 1.679 -- 76.38%\n",
            "With 100 examples, valid perf is: 1.066 -- 79.56%\n",
            "With 150 examples, valid perf is: 1.055 -- 73.90%\n",
            "With 200 examples, valid perf is: 0.603 -- 84.66%\n",
            "With 250 examples, valid perf is: 0.343 -- 90.92%\n",
            "With 300 examples, valid perf is: 0.341 -- 89.52%\n",
            "With 350 examples, valid perf is: 0.263 -- 92.78%\n",
            "With 400 examples, valid perf is: 0.236 -- 92.98%\n",
            "With 449 examples, valid perf is: 0.172 -- 94.70%\n",
            "With 499 examples, valid perf is: 0.161 -- 95.24%\n",
            "With 548 examples, valid perf is: 0.147 -- 95.90%\n",
            "done\n"
          ],
          "name": "stdout"
        }
      ]
    },
    {
      "cell_type": "code",
      "metadata": {
        "id": "oCEXrrwJSIVj",
        "colab_type": "code",
        "outputId": "e71a798c-c8bb-4dfa-bd4d-62c37e6dbb12",
        "colab": {
          "base_uri": "https://localhost:8080/",
          "height": 295
        }
      },
      "source": [
        "plt.title(\"Compared validation accuracies\")\n",
        "plt.xlabel(\"Number of labeled examples\")\n",
        "plt.ylabel(\"Accuracy\")\n",
        "for (name, perf) in performances:\n",
        "    plt.plot(perf[:,0], perf[:,1], label=name)\n",
        "plt.legend(loc='lower right')\n",
        "plt.show()"
      ],
      "execution_count": 9,
      "outputs": [
        {
          "output_type": "display_data",
          "data": {
            "image/png": "[encoded data removed]",
            "text/plain": [
              "<Figure size 432x288 with 1 Axes>"
            ]
          },
          "metadata": {
            "tags": []
          }
        }
      ]
    },
    {
      "cell_type": "code",
      "metadata": {
        "id": "GtJeQcAWSIV1",
        "colab_type": "code",
        "outputId": "36ccd657-8922-48d2-a380-4ca1b39ce5dc",
        "colab": {
          "base_uri": "https://localhost:8080/",
          "height": 295
        }
      },
      "source": [
        "plt.title(\"Compared validation losses\")\n",
        "plt.xlabel(\"Number of labeled examples\")\n",
        "plt.ylabel(\"Loss\")\n",
        "for (name, perf) in performances:\n",
        "    plt.plot(perf[:,0], perf[:,2], label=name)\n",
        "plt.legend(loc='upper right')\n",
        "plt.show()"
      ],
      "execution_count": 11,
      "outputs": [
        {
          "output_type": "display_data",
          "data": {
            "image/png": "[encoded data removed]",
            "text/plain": [
              "<Figure size 432x288 with 1 Axes>"
            ]
          },
          "metadata": {
            "tags": []
          }
        }
      ]
    },
    {
      "cell_type": "markdown",
      "metadata": {
        "id": "g7Np3HQmhqLk",
        "colab_type": "text"
      },
      "source": [
        "Graphs above reveal that the best strategies consist in incrementally adding most uncertain samples to the training set, where the uncertainty function depends on the best and second best prediction. In particular, they clearly outperform strategies based on global measures over the per-class scores such as entropy, which confirms the intuitions and experiments detailed in [this paper](https://www.researchgate.net/publication/221363883_Multi-class_active_learning_for_image_classification).\n",
        "\n",
        "Best-versus-Second-Best (BvSB) strategy and margin strategy are very similar and reach almost identical accuracy results, with a slight advantage for BvSB strategy."
      ]
    },
    {
      "cell_type": "markdown",
      "metadata": {
        "id": "MUal1zPwSIWF",
        "colab_type": "text"
      },
      "source": [
        "The provided code only implement the \"random\" strategy, which chooses examples at random to label them. Your task is to compare it to other, more guided strategies. For example:\n",
        "\n",
        "- a strategy that would label in priority the examples for which the classifier is the most uncertain, as measured by the entropy of its output\n",
        "- a strategy that would label in priority the examples that appear to be near the frontier between the classes: examples for which the highest and second-highest prediction values of the classifier are close to each other.\n",
        "\n",
        "You can also try to use other relevant decision criterion for choosing which examples to label, and implement them as new strategies. It is also possible to combine strategies together, in order to combine the strong points of each of them."
      ]
    },
    {
      "cell_type": "markdown",
      "metadata": {
        "id": "sDxuSsQ2SIWK",
        "colab_type": "text"
      },
      "source": [
        "**Some advice:**\n",
        "\n",
        "Keep in mind that your goal is to reach the best possible validation accuracy with as little labelled training examples as possible. As such, don't forget to try and change the number of initial examples for labelling, as well as the number of examples your strategy will request for labelling at each round.\n",
        "\n",
        "Also keep in mind that you network will be trained on possibly very small datasets (think of only a few hundred of examples), while the validation set contains 5000 examples. Be careful of the risks of over-fitting, adjust your network structure and the training time (`num_iter`) appropriately.\n",
        "\n",
        "As a baseline, you should be able to reach at least 90% of validation accuracy with less than 500 labelled examples."
      ]
    },
    {
      "cell_type": "markdown",
      "metadata": {
        "id": "RA7uinp3SIWO",
        "colab_type": "text"
      },
      "source": [
        "**When you are done, you're asked to upload this notebook with your model, the different strategies your compared with the graphs generated by the previous code. Your strategies functions should be commented to explain what each strategy does, and which one is your best strategy.**"
      ]
    }
  ]
}